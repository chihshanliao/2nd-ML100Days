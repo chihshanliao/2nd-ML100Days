{
 "cells": [
  {
   "cell_type": "markdown",
   "metadata": {},
   "source": [
    "## 練習時間\n",
    "在小量的資料上，我們用眼睛就可以看得出來程式碼是否有跑出我們理想中的結果\n",
    "\n",
    "請嘗試想像一個你需要的資料結構 (裡面的值可以是隨機的)，然後用上述的方法把它變成 pandas DataFrame\n",
    "\n",
    "#### Ex: 想像一個 dataframe 有兩個欄位，一個是國家，一個是人口，求人口數最多的國家\n",
    "\n",
    "### Hints: [隨機產生數值](https://blog.csdn.net/christianashannon/article/details/78867204)"
   ]
  },
  {
   "cell_type": "code",
   "execution_count": 2,
   "metadata": {},
   "outputs": [],
   "source": [
    "import pandas as pd\n",
    "import numpy as np"
   ]
  },
  {
   "cell_type": "code",
   "execution_count": 8,
   "metadata": {},
   "outputs": [
    {
     "name": "stdout",
     "output_type": "stream",
     "text": [
      "data1 = \n",
      "           人口             國家\n",
      "0    2300000         Taiwan\n",
      "1  500000000  United States\n",
      "2   80000000          Canda\n",
      "3  100000000         Franch\n",
      "4   92000000          Italy\n"
     ]
    }
   ],
   "source": [
    "data = {'國家': ['Taiwan', 'United States', 'Canda', 'Franch', 'Italy'],\n",
    "        '人口': ['2300000', '500000000', '80000000', '100000000', '92000000']}\n",
    "data1 = pd.DataFrame(data)\n",
    "print(\"data1 = \\n\", data1)"
   ]
  },
  {
   "cell_type": "code",
   "execution_count": 18,
   "metadata": {},
   "outputs": [
    {
     "name": "stdout",
     "output_type": "stream",
     "text": [
      "data3 = \n",
      "           人口  國家\n",
      "0   37197260  13\n",
      "1   36973001  12\n",
      "2   68192374  13\n",
      "3   25051140  12\n",
      "4   14886705  17\n",
      "5  186821695  10\n",
      "6  197728427  18\n",
      "7   94372377  18\n",
      "8   51116278  18\n",
      "9  131423385  15\n"
     ]
    }
   ],
   "source": [
    "data1 = np.random.randint(10,20, 10)\n",
    "data2 = np.random.randint(10000000,200000000, 10)\n",
    "data = {'國家': data1,\n",
    "        '人口': data2}\n",
    "data3 = pd.DataFrame(data)\n",
    "print(\"data3 = \\n\", data3)"
   ]
  },
  {
   "cell_type": "code",
   "execution_count": null,
   "metadata": {},
   "outputs": [],
   "source": []
  }
 ],
 "metadata": {
  "kernelspec": {
   "display_name": "Python 3",
   "language": "python",
   "name": "python3"
  },
  "language_info": {
   "codemirror_mode": {
    "name": "ipython",
    "version": 3
   },
   "file_extension": ".py",
   "mimetype": "text/x-python",
   "name": "python",
   "nbconvert_exporter": "python",
   "pygments_lexer": "ipython3",
   "version": "3.5.5"
  }
 },
 "nbformat": 4,
 "nbformat_minor": 2
}
